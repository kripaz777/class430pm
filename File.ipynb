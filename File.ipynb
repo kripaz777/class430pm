{
 "cells": [
  {
   "cell_type": "code",
   "execution_count": 1,
   "metadata": {},
   "outputs": [],
   "source": [
    "b = open('class430pm.txt','x')\n",
    "b.close()"
   ]
  },
  {
   "cell_type": "code",
   "execution_count": 2,
   "metadata": {},
   "outputs": [],
   "source": [
    "# b = open('<file_path>','<mode>')\n",
    "# b.close)()"
   ]
  },
  {
   "cell_type": "code",
   "execution_count": 4,
   "metadata": {},
   "outputs": [
    {
     "name": "stdout",
     "output_type": "stream",
     "text": [
      "<class 'str'>\n",
      "1.Hello World\n",
      "2.Hello World\n",
      "3.Hello World\n",
      "4.Hello World\n",
      "5.Hello World\n",
      "6.Hello World\n",
      "7.Hello World\n",
      "8.Hello World\n"
     ]
    }
   ],
   "source": [
    "b = open('class430pm.txt','r')\n",
    "c = b.read()\n",
    "print(type(c))\n",
    "print(c)\n",
    "b.close()"
   ]
  },
  {
   "cell_type": "code",
   "execution_count": 5,
   "metadata": {},
   "outputs": [
    {
     "name": "stdout",
     "output_type": "stream",
     "text": [
      "<class 'str'>\n",
      "1.Hello World\n",
      "2.Hell\n"
     ]
    }
   ],
   "source": [
    "b = open('class430pm.txt','r')\n",
    "c = b.read(20)\n",
    "print(type(c))\n",
    "print(c)\n",
    "b.close()"
   ]
  },
  {
   "cell_type": "code",
   "execution_count": 6,
   "metadata": {},
   "outputs": [
    {
     "name": "stdout",
     "output_type": "stream",
     "text": [
      "<class 'str'>\n",
      "1.Hello World\n",
      "\n"
     ]
    }
   ],
   "source": [
    "b = open('class430pm.txt','r')\n",
    "c = b.readline()\n",
    "print(type(c))\n",
    "print(c)\n",
    "b.close()"
   ]
  },
  {
   "cell_type": "code",
   "execution_count": 8,
   "metadata": {},
   "outputs": [],
   "source": [
    "b = open('class430pm.txt','a')\n",
    "b.write(\"\\n9.Hello World\")\n",
    "b.close()"
   ]
  },
  {
   "cell_type": "code",
   "execution_count": 9,
   "metadata": {},
   "outputs": [
    {
     "name": "stdout",
     "output_type": "stream",
     "text": [
      "Enter n = 2\n",
      "Enter name = Ram\n",
      "Enter age = 56\n",
      "Enter address = Kathmandu\n",
      "Enter phone = 9845443432\n",
      "Enter name = Shyam\n",
      "Enter age = 78\n",
      "Enter address = Patan\n",
      "Enter phone = 9845445432\n"
     ]
    }
   ],
   "source": [
    "data = str()\n",
    "n = int(input(\"Enter n = \"))\n",
    "for i in range(n):\n",
    "    name = input(\"Enter name = \")\n",
    "    age = int(input(\"Enter age = \"))\n",
    "    add = input(\"Enter address = \")\n",
    "    phone = int(input(\"Enter phone = \"))\n",
    "    info = f\"{name} {age} {add} {phone}\\n\"\n",
    "    data = data+info\n",
    "b = open('data.txt','w')\n",
    "b.write(data)\n",
    "b.close()"
   ]
  },
  {
   "cell_type": "code",
   "execution_count": 11,
   "metadata": {},
   "outputs": [
    {
     "name": "stdout",
     "output_type": "stream",
     "text": [
      "Ram 56 Kathmandu 9845443432\n",
      "Shyam 78 Patan 9845445432\n",
      "\n"
     ]
    }
   ],
   "source": [
    "b = open('data.txt','r')\n",
    "c = b.read()\n",
    "print(c)\n",
    "b.close()"
   ]
  },
  {
   "cell_type": "code",
   "execution_count": 19,
   "metadata": {},
   "outputs": [
    {
     "name": "stdout",
     "output_type": "stream",
     "text": [
      "[['Ram', '56', 'Kathmandu', '9845443432'], ['Shyam', '78', 'Patan', '9845445432']]\n"
     ]
    }
   ],
   "source": [
    "final_data = []\n",
    "d = c.split('\\n')[0:-1]\n",
    "for i in d:\n",
    "    x = i.split()\n",
    "    final_data.append(x)\n",
    "print(final_data)"
   ]
  },
  {
   "cell_type": "code",
   "execution_count": 21,
   "metadata": {},
   "outputs": [
    {
     "name": "stdout",
     "output_type": "stream",
     "text": [
      "Enter n = 2\n",
      "Enter name = Ram\n",
      "Enter age = 78\n",
      "Enter address = Kathmandu\n",
      "Enter phone = 9856556543\n",
      "Enter name = Shyam\n",
      "Enter age = 89\n",
      "Enter address = Patan\n",
      "Enter phone = 9812990654\n"
     ]
    }
   ],
   "source": [
    "data = str()\n",
    "n = int(input(\"Enter n = \"))\n",
    "b = open('data.csv','w')\n",
    "b.write(\"Name,Age,Address,Phone\\n\")\n",
    "for i in range(n):\n",
    "    name = input(\"Enter name = \")\n",
    "    age = int(input(\"Enter age = \"))\n",
    "    add = input(\"Enter address = \")\n",
    "    phone = int(input(\"Enter phone = \"))\n",
    "    info = f\"{name},{age},{add},{phone}\\n\"\n",
    "    data = data+info\n",
    "\n",
    "b.write(data)\n",
    "b.close()"
   ]
  },
  {
   "cell_type": "code",
   "execution_count": 23,
   "metadata": {},
   "outputs": [
    {
     "name": "stdout",
     "output_type": "stream",
     "text": [
      "[['Name', 'Age', 'Address', 'Phone'], ['Ram', '78', 'Kathmandu', '9856556543'], ['Shyam', '89', 'Patan', '9812990654']]\n"
     ]
    }
   ],
   "source": [
    "b = open('data.csv','r')\n",
    "x = b.read()\n",
    "b.close()\n",
    "\n",
    "final_data = []\n",
    "d = x.split('\\n')[0:-1]\n",
    "for i in d:\n",
    "    y = i.split(',')\n",
    "    final_data.append(y)\n",
    "print(final_data)"
   ]
  },
  {
   "cell_type": "code",
   "execution_count": 24,
   "metadata": {},
   "outputs": [],
   "source": [
    "# file management\n",
    "import os\n",
    "os.remove('data.txt')"
   ]
  },
  {
   "cell_type": "code",
   "execution_count": 25,
   "metadata": {},
   "outputs": [
    {
     "name": "stdout",
     "output_type": "stream",
     "text": [
      "There is no such file.\n"
     ]
    }
   ],
   "source": [
    "import os\n",
    "if os.path.exists('data.txt'):\n",
    "    b = open('data.txt','r')\n",
    "    print(b.read())\n",
    "    b.close()\n",
    "else:\n",
    "    print(\"There is no such file.\")"
   ]
  },
  {
   "cell_type": "code",
   "execution_count": 26,
   "metadata": {},
   "outputs": [
    {
     "name": "stdout",
     "output_type": "stream",
     "text": [
      "There is no such file.\n"
     ]
    }
   ],
   "source": [
    "import os\n",
    "if os.path.exists('data.txt'):\n",
    "    os.remove('data.txt')\n",
    "else:\n",
    "    print(\"There is no such file.\")"
   ]
  },
  {
   "cell_type": "code",
   "execution_count": 27,
   "metadata": {},
   "outputs": [
    {
     "data": {
      "text/plain": [
       "'Untitled Folder/data.csv'"
      ]
     },
     "execution_count": 27,
     "metadata": {},
     "output_type": "execute_result"
    }
   ],
   "source": [
    "import shutil as s\n",
    "src = 'data.csv'\n",
    "dst = 'Untitled Folder/'\n",
    "s.copy(src,dst)"
   ]
  },
  {
   "cell_type": "code",
   "execution_count": 30,
   "metadata": {},
   "outputs": [
    {
     "data": {
      "text/plain": [
       "'Untitled Folder1/Untitled Folder'"
      ]
     },
     "execution_count": 30,
     "metadata": {},
     "output_type": "execute_result"
    }
   ],
   "source": [
    "import shutil as s\n",
    "src = 'Untitled Folder'\n",
    "dst = 'Untitled Folder1/Untitled Folder'\n",
    "s.copytree(src,dst)"
   ]
  },
  {
   "cell_type": "code",
   "execution_count": 32,
   "metadata": {},
   "outputs": [
    {
     "data": {
      "text/plain": [
       "'Untitled Folder1/Untitled Folder3'"
      ]
     },
     "execution_count": 32,
     "metadata": {},
     "output_type": "execute_result"
    }
   ],
   "source": [
    "import shutil as s\n",
    "src = 'Untitled Folder'\n",
    "dst = 'Untitled Folder1/Untitled Folder3'\n",
    "s.move(src,dst)"
   ]
  },
  {
   "cell_type": "code",
   "execution_count": 33,
   "metadata": {},
   "outputs": [],
   "source": [
    "import os\n",
    "os.rename('Untitled Folder1','New Folder')"
   ]
  },
  {
   "cell_type": "code",
   "execution_count": null,
   "metadata": {},
   "outputs": [],
   "source": []
  }
 ],
 "metadata": {
  "kernelspec": {
   "display_name": "Python 3",
   "language": "python",
   "name": "python3"
  },
  "language_info": {
   "codemirror_mode": {
    "name": "ipython",
    "version": 3
   },
   "file_extension": ".py",
   "mimetype": "text/x-python",
   "name": "python",
   "nbconvert_exporter": "python",
   "pygments_lexer": "ipython3",
   "version": "3.7.1"
  }
 },
 "nbformat": 4,
 "nbformat_minor": 2
}
