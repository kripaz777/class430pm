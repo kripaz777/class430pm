{
 "cells": [
  {
   "cell_type": "code",
   "execution_count": 1,
   "metadata": {},
   "outputs": [],
   "source": [
    "import mysql.connector  \t\t#importing database\n",
    "database = mysql.connector.connect(\n",
    "    host=\"localhost\",\n",
    "    user=\"root\",\n",
    "    password=\"\"\n",
    ")\n",
    "db = database.cursor() \n",
    "db.execute(\"CREATE DATABASE mydatabase\")\n"
   ]
  },
  {
   "cell_type": "code",
   "execution_count": 7,
   "metadata": {},
   "outputs": [
    {
     "name": "stdout",
     "output_type": "stream",
     "text": [
      "(17, 'Veg .Sandwich', 'Western', 150, '', 'Sandwich')\n",
      "(18, 'Non Veg .Sandwich', 'Western', 150, '', 'Sandwich')\n",
      "(19, 'French Fries', 'Nepali', 150, '', 'Veg Snacks')\n",
      "(20, 'Chips Chilli', 'Nepali', 180, '', 'Veg Snacks')\n",
      "(21, 'Chicken Chilli', 'Nepali', 300, '', 'Non Veg Snacks')\n",
      "(22, 'Buff Chilli', 'Nepali', 300, '', 'Non Veg Snacks')\n",
      "(23, 'Mushroom Chilli', 'Nepali', 280, '', 'Veg Snacks')\n",
      "(24, 'Chicken Wings', 'Nepali', 350, '', 'Non Veg Snacks')\n",
      "(25, 'Chicken Drumsticks', 'Nepali', 350, '', 'Non Veg Snacks')\n",
      "(26, 'Aloo Dum', 'Nepali', 150, '', 'Veg Snacks')\n",
      "(27, 'Hot Garlic Potato', 'Nepali', 200, '', 'Non Veg Snacks')\n",
      "(28, 'Vegetable Pakoda', 'Nepali', 200, '', 'Veg Snacks')\n",
      "(29, 'Paneer Pakoda', 'Nepali', 300, '', 'Veg Snacks')\n",
      "(30, 'Veg. Thakali', 'Nepali', 200, '', 'Nepali Khana')\n",
      "(31, 'Chicken Thakali', 'Nepali', 250, '', 'Nepali Khana')\n",
      "(32, 'Buff Thakali', 'Nepali', 280, '', 'Nepali Khana')\n",
      "(33, 'Pork Thakali', 'Nepali', 280, '', 'Nepali Khana')\n",
      "(34, 'Veg. Sandwich', 'Western', 150, '', 'Sandwich')\n",
      "(35, 'Chicken Sandwich', 'Western', 180, '', 'Sandwich')\n",
      "(36, 'Club Sandwich', 'Western', 250, '', 'Sandwich')\n",
      "(37, 'Cheese Sandwich', 'Western', 250, '', 'Sandwich')\n",
      "(38, 'Veg. Burger', 'Western', 150, '', 'Burger')\n",
      "(39, 'Chicken Burger', 'Western', 180, '', 'Burger')\n",
      "(40, 'Ham Burger', 'Western', 190, '', 'Burger')\n",
      "(41, 'Veg. Pizza', 'Western', 250, '', 'Pizza & Sapagetti')\n",
      "(42, 'Chicken Mushroom Pizza', 'Western', 290, '', 'Pizza & Sapagetti')\n",
      "(43, 'Fruit Pizza', 'Western', 280, '', 'Pizza & Sapagetti')\n",
      "(44, 'Spicy Meat Pizza', 'Western', 300, '', 'Pizza & Sapagetti')\n",
      "(45, 'Tibetan Pizza', 'Western', 300, '', 'Pizza & Sapagetti')\n",
      "(46, 'Spaghetti Boognise', 'Western', 250, '', 'Pizza & Sapagetti')\n",
      "(47, 'Spaghetti Cheese & Tomato', 'Western', 230, '', 'Pizza & Sapagetti')\n",
      "(48, 'Spaghetti Carbonara', 'Western', 290, '', 'Pizza & Sapagetti')\n",
      "(49, 'Veg. Fried Rice', 'Nepali', 140, '', 'Rice')\n",
      "(50, 'Chicken Fried Rice', 'Nepali', 160, '', 'Rice')\n",
      "(51, 'Buff Fried Rice', 'Nepali', 170, '', 'Rice')\n",
      "(52, 'Pork Fried Rice', 'Nepali', 200, '', 'Rice')\n",
      "(53, 'Egg Fried Rice', 'Nepali', 160, '', 'Rice')\n",
      "(54, 'Mix Fried Rice', 'Nepali', 190, '', 'Rice')\n",
      "(55, 'Veg. Chowmein', 'Nepali', 140, '', 'Noodels')\n",
      "(56, 'Buff Chowmein', 'Nepali', 170, '', 'Noodels')\n",
      "(57, 'Egg Chowmein', 'Nepali', 160, '', 'Noodels')\n",
      "(58, 'Chicken Chowmein', 'Nepali', 200, '', 'Noodels')\n",
      "(59, 'Pork Chowmein', 'Nepali', 170, '', 'Noodels')\n",
      "(60, 'Mix Chowmein', 'Nepali', 190, '', 'Noodels')\n",
      "(61, 'Veg. Thukpa', 'Nepali', 140, '', 'Thukpa')\n",
      "(62, 'Non Veg. Thukpa', 'Nepali', 170, '', 'Thukpa')\n",
      "(63, 'Veg. Momo', 'Nepali', 150, '', 'MoMo')\n",
      "(64, 'Buff MoMo', 'Nepali', 170, '', 'MoMo')\n",
      "(65, 'Chicken MoMo', 'Nepali', 170, '', 'MoMo')\n",
      "(66, 'Veg. Soup MoMo', 'Nepali', 150, '', 'Special Soup MoMo')\n",
      "(67, 'Buff Soup MoMo', 'Nepali', 170, '', 'Special Soup MoMo')\n",
      "(68, 'Chicken Soup MoMo', 'Nepali', 170, '', 'Special Soup MoMo')\n",
      "(69, 'Veg. Sizzler', 'Western', 300, '', 'Sizzler')\n",
      "(70, 'Chicken Sizzler', 'Western', 450, '', 'Sizzler')\n",
      "(71, 'Buff Sizzler', 'Western', 450, '', 'Sizzler')\n",
      "(72, 'Plain Rice', 'Indian', 50, '', 'Biryani')\n",
      "(73, 'Veg. Curry', 'Indian', 150, '', 'Curry')\n",
      "(74, 'Chicken Curry', 'Indian', 200, '', 'Curry')\n",
      "(75, 'Buff Curry', 'Indian', 220, '', 'Curry')\n",
      "(76, 'Plain Dal Curry', 'Indian', 100, '', 'Curry')\n",
      "(77, 'Fried Dal Curry', 'Indian', 140, '', 'Curry')\n",
      "(78, 'Alu Mattar', 'Indian', 160, '', 'Curry')\n",
      "(79, 'Matter Paneer', 'Indian', 220, '', 'Curry')\n",
      "(80, 'Mushroom Masala', 'Indian', 250, '', 'Curry')\n",
      "(81, 'Paneer Masala', 'Indian', 260, '', 'Biryani')\n",
      "(82, 'Veg. Biryani', 'Indian', 200, '', 'Biryani')\n",
      "(83, 'Chicken Biryani ', 'Indian', 250, '', 'Biryani')\n",
      "(84, 'Tawa Roti', 'Indian', 25, '', 'Roti & Paratha')\n",
      "(85, 'Plain Paratha', 'Indian', 40, '', 'Roti & Paratha')\n",
      "(86, 'Alu Paratha', 'Indian', 60, '', 'Roti & Paratha')\n"
     ]
    }
   ],
   "source": [
    "import mysql.connector  \t\t#importing database\n",
    "database = mysql.connector.connect(\n",
    "    host=\"localhost\",\n",
    "    user=\"root\",\n",
    "    password=\"\",\n",
    "    database = \"chinese\"\n",
    ")\n",
    "\n",
    "db = database.cursor()\n",
    "\n",
    "db.execute(\"SELECT * FROM food\")\n",
    "result =db.fetchall()\n",
    "for x in result:\n",
    "    print(x)\n",
    "\n"
   ]
  },
  {
   "cell_type": "code",
   "execution_count": 9,
   "metadata": {},
   "outputs": [
    {
     "name": "stdout",
     "output_type": "stream",
     "text": [
      "(72, 'Plain Rice', 'Indian', 50, '', 'Biryani')\n",
      "(76, 'Plain Dal Curry', 'Indian', 100, '', 'Curry')\n",
      "(77, 'Fried Dal Curry', 'Indian', 140, '', 'Curry')\n",
      "(84, 'Tawa Roti', 'Indian', 25, '', 'Roti & Paratha')\n",
      "(85, 'Plain Paratha', 'Indian', 40, '', 'Roti & Paratha')\n",
      "(86, 'Alu Paratha', 'Indian', 60, '', 'Roti & Paratha')\n"
     ]
    }
   ],
   "source": [
    "db.execute(\"SELECT * FROM food WHERE cat = 'Indian' and price < 150\")\n",
    "result =db.fetchall()\n",
    "for x in result:\n",
    "    print(x)"
   ]
  },
  {
   "cell_type": "code",
   "execution_count": 22,
   "metadata": {},
   "outputs": [
    {
     "name": "stdout",
     "output_type": "stream",
     "text": [
      "(49, 'Veg. Fried Rice', 'Nepali', 140, '', 'Rice')\n",
      "(50, 'Chicken Fried Rice', 'Nepali', 160, '', 'Rice')\n",
      "(51, 'Buff Fried Rice', 'Nepali', 170, '', 'Rice')\n",
      "(52, 'Pork Fried Rice', 'Nepali', 200, '', 'Rice')\n",
      "(53, 'Egg Fried Rice', 'Nepali', 160, '', 'Rice')\n",
      "(54, 'Mix Fried Rice', 'Nepali', 190, '', 'Rice')\n",
      "(72, 'Plain Rice', 'Indian', 50, '', 'Biryani')\n"
     ]
    }
   ],
   "source": [
    "db.execute(\"SELECT * FROM food WHERE name LIKE '%rice%'\")\n",
    "result =db.fetchall()\n",
    "for x in result:\n",
    "    print(x)"
   ]
  },
  {
   "cell_type": "code",
   "execution_count": 26,
   "metadata": {},
   "outputs": [],
   "source": [
    "db.execute(\"INSERT INTO food(name,cat,price,image,subcat) VALUES('Momo','chinese',100,'','momo') \")\n",
    "database.commit()\n"
   ]
  },
  {
   "cell_type": "code",
   "execution_count": null,
   "metadata": {},
   "outputs": [],
   "source": [
    "n = int(input(\"Enter n = \"))\n",
    "name = input(\"Enter name = \")\n",
    "cat = input(\"Enter cat = \")\n",
    "price = int(input(\"Enter price = \"))\n",
    "subcat = input(\"Enter subcat = \")\n",
    "for i in range(n):\n",
    "    db.execute(f\"INSERT INTO food(name,cat,price,subcat) \n",
    "               VALUES(name,cat,price,subcat)\" )\n",
    "database.commit()\n"
   ]
  },
  {
   "cell_type": "code",
   "execution_count": null,
   "metadata": {},
   "outputs": [],
   "source": []
  }
 ],
 "metadata": {
  "kernelspec": {
   "display_name": "Python 3",
   "language": "python",
   "name": "python3"
  },
  "language_info": {
   "codemirror_mode": {
    "name": "ipython",
    "version": 3
   },
   "file_extension": ".py",
   "mimetype": "text/x-python",
   "name": "python",
   "nbconvert_exporter": "python",
   "pygments_lexer": "ipython3",
   "version": "3.7.1"
  }
 },
 "nbformat": 4,
 "nbformat_minor": 2
}
