{
 "cells": [
  {
   "cell_type": "code",
   "execution_count": 2,
   "metadata": {},
   "outputs": [],
   "source": [
    "# --tuple\n",
    "# indexing\n",
    "# duplicatemembers\n",
    "# ordered\n",
    "# imutable"
   ]
  },
  {
   "cell_type": "code",
   "execution_count": 3,
   "metadata": {},
   "outputs": [
    {
     "name": "stdout",
     "output_type": "stream",
     "text": [
      "() ()\n",
      "<class 'tuple'> <class 'tuple'>\n"
     ]
    }
   ],
   "source": [
    "a = ()\n",
    "b = tuple()\n",
    "print(a,b)\n",
    "print(type(a),type(b))"
   ]
  },
  {
   "cell_type": "code",
   "execution_count": 6,
   "metadata": {},
   "outputs": [
    {
     "name": "stdout",
     "output_type": "stream",
     "text": [
      "cat\n"
     ]
    }
   ],
   "source": [
    "a = (\"Apple\",\"Ball\",\"cat\",\"DOg\")\n",
    "print(a[2])"
   ]
  },
  {
   "cell_type": "code",
   "execution_count": 8,
   "metadata": {},
   "outputs": [
    {
     "data": {
      "text/plain": [
       "('Apple', 'Ball', 'cat', 'DOg', 'Apple')"
      ]
     },
     "execution_count": 8,
     "metadata": {},
     "output_type": "execute_result"
    }
   ],
   "source": [
    "a = (\"Apple\",\"Ball\",\"cat\",\"DOg\",\"Apple\")\n",
    "a"
   ]
  },
  {
   "cell_type": "code",
   "execution_count": 16,
   "metadata": {},
   "outputs": [
    {
     "name": "stdout",
     "output_type": "stream",
     "text": [
      "('Apple', 'Ball', 'Cat')\n"
     ]
    }
   ],
   "source": [
    "a = (\"Apple\",\"Ball\",)\n",
    "b = (\"Cat\",)\n",
    "print(a+b)"
   ]
  },
  {
   "cell_type": "code",
   "execution_count": 13,
   "metadata": {},
   "outputs": [
    {
     "data": {
      "text/plain": [
       "tuple"
      ]
     },
     "execution_count": 13,
     "metadata": {},
     "output_type": "execute_result"
    }
   ],
   "source": [
    "b = (\"Cat\",)\n",
    "type(b)"
   ]
  },
  {
   "cell_type": "code",
   "execution_count": 15,
   "metadata": {},
   "outputs": [
    {
     "data": {
      "text/plain": [
       "('C', 'a', 't')"
      ]
     },
     "execution_count": 15,
     "metadata": {},
     "output_type": "execute_result"
    }
   ],
   "source": [
    "b = tuple(\"Cat\")\n",
    "b"
   ]
  },
  {
   "cell_type": "code",
   "execution_count": 20,
   "metadata": {},
   "outputs": [
    {
     "name": "stdout",
     "output_type": "stream",
     "text": [
      "Enter n = 3\n",
      "Enter x = 32\n",
      "Enter x = 35\n",
      "Enter x = 46\n",
      "(32, 35, 46)\n"
     ]
    }
   ],
   "source": [
    "y = ()\n",
    "n = int(input(\"Enter n = \"))\n",
    "for i in range(n):\n",
    "    x = int(input(\"Enter x = \"))\n",
    "    y = y+(x,)\n",
    "    \n",
    "print(y)"
   ]
  },
  {
   "cell_type": "code",
   "execution_count": 22,
   "metadata": {},
   "outputs": [
    {
     "data": {
      "text/plain": [
       "(32, 35, 46)"
      ]
     },
     "execution_count": 22,
     "metadata": {},
     "output_type": "execute_result"
    }
   ],
   "source": [
    "x = (32, 35, 46)\n",
    "y = list(x)\n",
    "x = tuple(y)\n",
    "x"
   ]
  },
  {
   "cell_type": "code",
   "execution_count": 23,
   "metadata": {},
   "outputs": [
    {
     "data": {
      "text/plain": [
       "tuple"
      ]
     },
     "execution_count": 23,
     "metadata": {},
     "output_type": "execute_result"
    }
   ],
   "source": [
    "a = ((),(),())\n",
    "type(a)"
   ]
  },
  {
   "cell_type": "code",
   "execution_count": 24,
   "metadata": {},
   "outputs": [
    {
     "data": {
      "text/plain": [
       "(1, 2, 3)"
      ]
     },
     "execution_count": 24,
     "metadata": {},
     "output_type": "execute_result"
    }
   ],
   "source": [
    "a = ((1,2,3),\n",
    "     (4,5,6),\n",
    "     (7,8,9))\n",
    "a[0]"
   ]
  },
  {
   "cell_type": "code",
   "execution_count": null,
   "metadata": {},
   "outputs": [],
   "source": [
    "# tuple insede tuple\n",
    "z = ()\n",
    "r = int(input(\"Enter r = \"))\n",
    "c= int(input(\"Enter c = \"))\n",
    "for i in range(r):\n",
    "    y = ()\n",
    "    for j in range(c):\n",
    "        x = int(input(\"Enter x \"))\n",
    "        y = y+(x,)\n",
    "    z = z+y\n",
    "    \n",
    "print(z)"
   ]
  },
  {
   "cell_type": "code",
   "execution_count": 7,
   "metadata": {},
   "outputs": [
    {
     "data": {
      "text/plain": [
       "([1, 2, 3, [4, 5, 6]], [4, 5, 6], [7, 8, 9])"
      ]
     },
     "execution_count": 7,
     "metadata": {},
     "output_type": "execute_result"
    }
   ],
   "source": [
    "# list inside tuple\n",
    "a = ([1,2,3],[4,5,6],[7,8,9])\n",
    "a[0].append(a[1])\n",
    "a"
   ]
  },
  {
   "cell_type": "code",
   "execution_count": 9,
   "metadata": {},
   "outputs": [
    {
     "data": {
      "text/plain": [
       "([1, 2, 3], [4, 5, 6], [7, 8, 9], [11, 12, 13])"
      ]
     },
     "execution_count": 9,
     "metadata": {},
     "output_type": "execute_result"
    }
   ],
   "source": [
    "# list inside tuple\n",
    "a = ([1,2,3],[4,5,6],[7,8,9])\n",
    "b = a+([11,12,13],)\n",
    "b"
   ]
  },
  {
   "cell_type": "code",
   "execution_count": 11,
   "metadata": {},
   "outputs": [
    {
     "name": "stdout",
     "output_type": "stream",
     "text": [
      "Enter r = 2\n",
      "Enter c = 2\n",
      "Enter x 1\n",
      "Enter x 2\n",
      "Enter x 3\n",
      "Enter x 4\n",
      "([1, 2], [3, 4])\n"
     ]
    }
   ],
   "source": [
    "# list inside tuple\n",
    "z = ()\n",
    "r = int(input(\"Enter r = \"))\n",
    "c= int(input(\"Enter c = \"))\n",
    "for i in range(r):\n",
    "    y = []\n",
    "    for j in range(c):\n",
    "        x = int(input(\"Enter x \"))\n",
    "        y.append(x)\n",
    "    z = z+(y,)\n",
    "    \n",
    "print(z)"
   ]
  },
  {
   "cell_type": "code",
   "execution_count": 12,
   "metadata": {},
   "outputs": [
    {
     "name": "stdout",
     "output_type": "stream",
     "text": [
      "Enter r = 2\n",
      "Enter c = 2\n",
      "Enter x 1\n",
      "Enter x 2\n",
      "Enter x 3\n",
      "Enter x 4\n",
      "[(1, 2), (3, 4)]\n"
     ]
    }
   ],
   "source": [
    "# tuple inside list\n",
    "z = []\n",
    "r = int(input(\"Enter r = \"))\n",
    "c= int(input(\"Enter c = \"))\n",
    "for i in range(r):\n",
    "    y = ()\n",
    "    for j in range(c):\n",
    "        x = int(input(\"Enter x \"))\n",
    "        y = y+(x,)\n",
    "    z.append(y)\n",
    "print(z)\n",
    "# [(1, 2), (3, 4)]\n"
   ]
  },
  {
   "cell_type": "code",
   "execution_count": 16,
   "metadata": {},
   "outputs": [
    {
     "data": {
      "text/plain": [
       "tuple"
      ]
     },
     "execution_count": 16,
     "metadata": {},
     "output_type": "execute_result"
    }
   ],
   "source": [
    "a = [(1, 2), (3, 4)]\n",
    "type(a[0])"
   ]
  },
  {
   "cell_type": "code",
   "execution_count": 20,
   "metadata": {},
   "outputs": [
    {
     "name": "stdout",
     "output_type": "stream",
     "text": [
      "[[1, 2, 3], [4, 5, 6], [7, 8, 9]]\n"
     ]
    }
   ],
   "source": [
    "b = []\n",
    "a = ((1,2,3),(4,5,6),(7,8,9))\n",
    "for i in a:\n",
    "    x = list(i)\n",
    "    b.append(x)\n",
    "print(b)"
   ]
  },
  {
   "cell_type": "code",
   "execution_count": null,
   "metadata": {},
   "outputs": [],
   "source": [
    "a = [[1, 2, 3], [4, 5, 6], [7, 8, 9]]"
   ]
  }
 ],
 "metadata": {
  "kernelspec": {
   "display_name": "Python 3",
   "language": "python",
   "name": "python3"
  },
  "language_info": {
   "codemirror_mode": {
    "name": "ipython",
    "version": 3
   },
   "file_extension": ".py",
   "mimetype": "text/x-python",
   "name": "python",
   "nbconvert_exporter": "python",
   "pygments_lexer": "ipython3",
   "version": "3.7.1"
  }
 },
 "nbformat": 4,
 "nbformat_minor": 2
}
