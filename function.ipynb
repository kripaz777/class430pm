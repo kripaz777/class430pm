{
 "cells": [
  {
   "cell_type": "code",
   "execution_count": 2,
   "metadata": {},
   "outputs": [],
   "source": [
    "# function\n",
    "#print() type() input() int() float() str()"
   ]
  },
  {
   "cell_type": "code",
   "execution_count": 3,
   "metadata": {},
   "outputs": [],
   "source": [
    "# def <function_name>():\n",
    "#     <operations>\n",
    "    \n",
    "    \n",
    "# <function_name>()"
   ]
  },
  {
   "cell_type": "code",
   "execution_count": 5,
   "metadata": {},
   "outputs": [
    {
     "name": "stdout",
     "output_type": "stream",
     "text": [
      "Hello World\n"
     ]
    }
   ],
   "source": [
    "def hello():                     #defining function\n",
    "    print(\"Hello World\")\n",
    "    \n",
    "hello()                           #calling function"
   ]
  },
  {
   "cell_type": "code",
   "execution_count": 8,
   "metadata": {},
   "outputs": [
    {
     "name": "stdout",
     "output_type": "stream",
     "text": [
      "150\n"
     ]
    }
   ],
   "source": [
    "def area():\n",
    "    l = int(input(\"Enter l = \"))   #local variable\n",
    "    b = int(input(\"Enter b = \"))   #local variable\n",
    "    a = l*b\n",
    "    print(a)\n",
    "    \n",
    "area()"
   ]
  },
  {
   "cell_type": "code",
   "execution_count": 9,
   "metadata": {},
   "outputs": [
    {
     "name": "stdout",
     "output_type": "stream",
     "text": [
      "Enter l = 10\n",
      "Enter b = 5\n",
      "50\n"
     ]
    }
   ],
   "source": [
    "l = int(input(\"Enter l = \"))        #global variable\n",
    "b = int(input(\"Enter b = \"))        #global Variable\n",
    "def area():\n",
    "    a = l*b\n",
    "    print(a)\n",
    "    \n",
    "area()"
   ]
  },
  {
   "cell_type": "code",
   "execution_count": 10,
   "metadata": {},
   "outputs": [
    {
     "name": "stdout",
     "output_type": "stream",
     "text": [
      "Enter l = 10\n",
      "Enter b = 2\n",
      "20\n",
      "20\n"
     ]
    }
   ],
   "source": [
    "l = int(input(\"Enter l = \"))        #global variable\n",
    "b = int(input(\"Enter b = \"))        #global Variable\n",
    "def area():\n",
    "    global a\n",
    "    a = l*b\n",
    "    print(a)\n",
    "    \n",
    "area()\n",
    "print(a)"
   ]
  },
  {
   "cell_type": "code",
   "execution_count": 11,
   "metadata": {},
   "outputs": [],
   "source": [
    "# function with no argument and no return type\n",
    "# function with argument and no return type\n",
    "# function with no argument and return type\n",
    "# function with argument and return type"
   ]
  },
  {
   "cell_type": "code",
   "execution_count": 12,
   "metadata": {},
   "outputs": [
    {
     "name": "stdout",
     "output_type": "stream",
     "text": [
      "Enter p = 100\n",
      "Enter t = 2\n",
      "Enter r = 3\n",
      "The value of i =  6.0\n"
     ]
    }
   ],
   "source": [
    "# function with no argument and no return type\n",
    "def bank():\n",
    "    p = int(input(\"Enter p = \"))\n",
    "    t = float(input(\"Enter t = \"))\n",
    "    r = float(input(\"Enter r = \"))\n",
    "    i = p*t*r/100\n",
    "    print(\"The value of i = \",i)\n",
    "    \n",
    "bank()"
   ]
  },
  {
   "cell_type": "code",
   "execution_count": 13,
   "metadata": {},
   "outputs": [
    {
     "name": "stdout",
     "output_type": "stream",
     "text": [
      "Enter n = 2\n",
      "Enter p = 1000\n",
      "Enter t = 2\n",
      "Enter r = 3\n",
      "The value of i =  60.0\n",
      "Enter p = 100\n",
      "Enter t = 2\n",
      "Enter r = 3\n",
      "The value of i =  6.0\n"
     ]
    }
   ],
   "source": [
    "# function with no argument and no return type\n",
    "def bank():\n",
    "    p = int(input(\"Enter p = \"))\n",
    "    t = float(input(\"Enter t = \"))\n",
    "    r = float(input(\"Enter r = \"))\n",
    "    i = p*t*r/100\n",
    "    print(\"The value of i = \",i)\n",
    "    \n",
    "n = int(input(\"Enter n = \"))\n",
    "for i in range(n):\n",
    "    bank()"
   ]
  },
  {
   "cell_type": "code",
   "execution_count": 14,
   "metadata": {},
   "outputs": [
    {
     "name": "stdout",
     "output_type": "stream",
     "text": [
      "Hello World\n"
     ]
    }
   ],
   "source": [
    "def hello(x):\n",
    "    print(x)\n",
    "\n",
    "hello(\"Hello World\")"
   ]
  },
  {
   "cell_type": "code",
   "execution_count": 15,
   "metadata": {},
   "outputs": [
    {
     "name": "stdout",
     "output_type": "stream",
     "text": [
      "50\n"
     ]
    }
   ],
   "source": [
    "# function with argument and no return type\n",
    "def area(l,b):\n",
    "    a = l*b\n",
    "    print(a)\n",
    "    \n",
    "area(10,5)"
   ]
  },
  {
   "cell_type": "code",
   "execution_count": 16,
   "metadata": {},
   "outputs": [
    {
     "name": "stdout",
     "output_type": "stream",
     "text": [
      "Enter l = 10\n",
      "Enter b = 2\n",
      "20\n"
     ]
    }
   ],
   "source": [
    "# function with argument and no return type\n",
    "def area(x,y):\n",
    "    a = x*y\n",
    "    print(a)\n",
    "    \n",
    "l = int(input(\"Enter l = \"))\n",
    "b = int(input(\"Enter b = \"))\n",
    "\n",
    "area(l,b)"
   ]
  },
  {
   "cell_type": "code",
   "execution_count": 17,
   "metadata": {},
   "outputs": [
    {
     "name": "stdout",
     "output_type": "stream",
     "text": [
      "Enter l = 100\n",
      "Enter b = 2\n",
      "Enter h = 3\n",
      "600\n",
      "200\n"
     ]
    }
   ],
   "source": [
    "def area(x,y):\n",
    "    a = x*y\n",
    "    print(a)\n",
    "    \n",
    "def volume(x,y,z):\n",
    "    v = x*y*z\n",
    "    print(v)\n",
    "    \n",
    "l = int(input(\"Enter l = \"))\n",
    "b = int(input(\"Enter b = \"))\n",
    "h = int(input(\"Enter h = \"))\n",
    "volume(l,b,h)\n",
    "area(l,b)"
   ]
  },
  {
   "cell_type": "code",
   "execution_count": 18,
   "metadata": {},
   "outputs": [
    {
     "name": "stdout",
     "output_type": "stream",
     "text": [
      "Java\n",
      "C++\n",
      "C\n",
      "Python\n"
     ]
    }
   ],
   "source": [
    "def language(lan = \"Python\"):\n",
    "    print(lan)\n",
    "    \n",
    "language(\"Java\")\n",
    "language(\"C++\")\n",
    "language(\"C\")\n",
    "language()"
   ]
  },
  {
   "cell_type": "code",
   "execution_count": 28,
   "metadata": {},
   "outputs": [
    {
     "name": "stdout",
     "output_type": "stream",
     "text": [
      "12\n",
      "20\n",
      "10\n",
      "4\n"
     ]
    }
   ],
   "source": [
    "def area(l=2,b=2):\n",
    "    a = l*b\n",
    "    print(a)\n",
    "    \n",
    "area(3,4)\n",
    "area(4,5)\n",
    "area(2,5)\n",
    "area()"
   ]
  },
  {
   "cell_type": "code",
   "execution_count": null,
   "metadata": {},
   "outputs": [],
   "source": [
    "def add(a,b):\n",
    "    print(a+b)\n",
    "def sub(a,b):\n",
    "    print(a-b)\n",
    "def mul(a,b):\n",
    "    print(a*b)\n",
    "def div(a,b):\n",
    "    print(a/b)\n",
    "def cal():\n",
    "    a = int(input(\"Enter a = \"))\n",
    "    b = int(input(\"Enter b = \"))\n",
    "    o = input(\"Enter + - * / \")\n",
    "    if o == '+':\n",
    "        add(a,b)\n",
    "    elif o =='-':\n",
    "        sub(a,b)\n",
    "    elif o == '*':\n",
    "        mul(a,b)\n",
    "    elif o == '/':\n",
    "        div(a,b)\n",
    "    else:\n",
    "        print(\"Invalid operators\")"
   ]
  },
  {
   "cell_type": "code",
   "execution_count": 29,
   "metadata": {},
   "outputs": [
    {
     "name": "stdout",
     "output_type": "stream",
     "text": [
      "Enter n = 2\n",
      "Enter a = 10\n",
      "Enter b = 3\n",
      "Enter + - * / +\n",
      "13\n",
      "Enter a = 10\n",
      "Enter b = 4\n",
      "Enter + - * / -\n",
      "6\n"
     ]
    }
   ],
   "source": [
    "def add(a,b):\n",
    "    print(a+b)\n",
    "def sub(a,b):\n",
    "    print(a-b)\n",
    "def mul(a,b):\n",
    "    print(a*b)\n",
    "def div(a,b):\n",
    "    print(a/b)\n",
    "def cal(a,b,o):\n",
    "    if o == '+':\n",
    "        add(a,b)\n",
    "    elif o =='-':\n",
    "        sub(a,b)\n",
    "    elif o == '*':\n",
    "        mul(a,b)\n",
    "    elif o == '/':\n",
    "        div(a,b)\n",
    "    else:\n",
    "        print(\"Invalid operators\")\n",
    "n = int(input(\"Enter n = \"))\n",
    "for i in range(n):\n",
    "    a = int(input(\"Enter a = \"))\n",
    "    b = int(input(\"Enter b = \"))\n",
    "    o = input(\"Enter + - * / \")\n",
    "    cal(a,b,o)"
   ]
  },
  {
   "cell_type": "code",
   "execution_count": 30,
   "metadata": {},
   "outputs": [
    {
     "name": "stdout",
     "output_type": "stream",
     "text": [
      "Enter name = Ram\n",
      "Enter age = 34\n",
      "Enter add = Kathmandu\n",
      "Hello I am Ram I am from Kathmandu I am 34\n"
     ]
    }
   ],
   "source": [
    "def info(y):\n",
    "    i,j,k = y\n",
    "    z = \"Hello I am \"+i+\" I am from \"+k+\" I am \"+str(j)\n",
    "    print(z)\n",
    "    \n",
    "name = input(\"Enter name = \")\n",
    "age = int(input(\"Enter age = \"))\n",
    "add = input(\"Enter add = \")\n",
    "y = (name,age,add)\n",
    "info(y)"
   ]
  },
  {
   "cell_type": "code",
   "execution_count": null,
   "metadata": {},
   "outputs": [],
   "source": []
  }
 ],
 "metadata": {
  "kernelspec": {
   "display_name": "Python 3",
   "language": "python",
   "name": "python3"
  },
  "language_info": {
   "codemirror_mode": {
    "name": "ipython",
    "version": 3
   },
   "file_extension": ".py",
   "mimetype": "text/x-python",
   "name": "python",
   "nbconvert_exporter": "python",
   "pygments_lexer": "ipython3",
   "version": "3.7.1"
  }
 },
 "nbformat": 4,
 "nbformat_minor": 2
}
