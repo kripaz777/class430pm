{
 "cells": [
  {
   "cell_type": "code",
   "execution_count": 1,
   "metadata": {},
   "outputs": [],
   "source": [
    "# Conditional statements\n",
    "# if\n",
    "# elif\n",
    "# else"
   ]
  },
  {
   "cell_type": "code",
   "execution_count": 2,
   "metadata": {},
   "outputs": [],
   "source": [
    "# < > == != <= >=\n"
   ]
  },
  {
   "cell_type": "code",
   "execution_count": 4,
   "metadata": {},
   "outputs": [
    {
     "data": {
      "text/plain": [
       "False"
      ]
     },
     "execution_count": 4,
     "metadata": {},
     "output_type": "execute_result"
    }
   ],
   "source": [
    "a = 10\n",
    "b = 20\n",
    "a>b"
   ]
  },
  {
   "cell_type": "code",
   "execution_count": 11,
   "metadata": {},
   "outputs": [
    {
     "name": "stdout",
     "output_type": "stream",
     "text": [
      "a is greater\n"
     ]
    }
   ],
   "source": [
    "a = 30\n",
    "b = 20\n",
    "if a > b :\n",
    "    print(\"a is greater\")\n",
    "    \n",
    "else:\n",
    "    print(\"b is greater\")"
   ]
  },
  {
   "cell_type": "code",
   "execution_count": 19,
   "metadata": {},
   "outputs": [
    {
     "name": "stdout",
     "output_type": "stream",
     "text": [
      "Enter a = 10\n",
      "10\n"
     ]
    },
    {
     "data": {
      "text/plain": [
       "str"
      ]
     },
     "execution_count": 19,
     "metadata": {},
     "output_type": "execute_result"
    }
   ],
   "source": [
    "a = input(\"Enter a = \")\n",
    "print(a)\n",
    "type(a)\n",
    "\"10\""
   ]
  },
  {
   "cell_type": "code",
   "execution_count": 14,
   "metadata": {},
   "outputs": [
    {
     "name": "stdout",
     "output_type": "stream",
     "text": [
      "Enter a = 10\n",
      "Enter b = 20\n",
      "20  is greater than  10\n"
     ]
    }
   ],
   "source": [
    "a = int(input(\"Enter a = \"))\n",
    "b = int(input(\"Enter b = \"))\n",
    "\n",
    "if a> b:\n",
    "    print(a,\" is greater than \",b)\n",
    "elif a<b:\n",
    "    print(b,\" is greater than \",a)\n",
    "else:\n",
    "    print(\"Both are equal\")"
   ]
  },
  {
   "cell_type": "code",
   "execution_count": null,
   "metadata": {},
   "outputs": [],
   "source": [
    "a = int(input(\"Enter a = \"))\n",
    "if a%2 == 0:\n",
    "    print(\"This is even no \")\n",
    "else:\n",
    "    print(\"This is odd no \")"
   ]
  },
  {
   "cell_type": "code",
   "execution_count": 20,
   "metadata": {},
   "outputs": [
    {
     "name": "stdout",
     "output_type": "stream",
     "text": [
      "Enter a = 10\n",
      "This is even no \n"
     ]
    }
   ],
   "source": [
    "a = int(input(\"Enter a = \"))\n",
    "if a%2 != 0:\n",
    "    print(\"This is odd no \")\n",
    "else:\n",
    "    print(\"This is even no \")"
   ]
  },
  {
   "cell_type": "code",
   "execution_count": null,
   "metadata": {},
   "outputs": [],
   "source": [
    "# and or\n",
    "and = 1*1 1*0  &\n",
    "or = 1+1 0+1 1+0  |"
   ]
  },
  {
   "cell_type": "code",
   "execution_count": 25,
   "metadata": {},
   "outputs": [
    {
     "name": "stdout",
     "output_type": "stream",
     "text": [
      "Enter a = 9\n",
      "This is odd no and less than 10\n"
     ]
    }
   ],
   "source": [
    "a = int(input(\"Enter a = \"))\n",
    "if a%2 == 0 and a>10:\n",
    "    print(\"This is even no and greater than 10\")\n",
    "elif a%2 != 0 and a>10:\n",
    "    print(\"This is odd no and greater than 10\")\n",
    "elif a%2 == 0 and a<10:\n",
    "    print(\"This is even no and less than 10\")\n",
    "elif a%2 != 0 and a<10:\n",
    "    print(\"This is odd no and less than 10\")\n",
    "else:\n",
    "    print(\"Even no and equal to 10\")"
   ]
  },
  {
   "cell_type": "code",
   "execution_count": 1,
   "metadata": {},
   "outputs": [
    {
     "name": "stdout",
     "output_type": "stream",
     "text": [
      "Enter per = 80\n",
      "This is grade A\n"
     ]
    }
   ],
   "source": [
    "m = int(input(\"Enter per = \"))\n",
    "if m > 80 or m == 80:\n",
    "    print(\"This is grade A\")\n",
    "elif m > 60 or m == 60:\n",
    "    print(\"This is grade B\")\n",
    "elif m >45 or m == 45:\n",
    "    print(\"This is grade C\")\n",
    "else:\n",
    "    print(\"Ths is grade F\")"
   ]
  },
  {
   "cell_type": "code",
   "execution_count": null,
   "metadata": {},
   "outputs": [],
   "source": [
    "a = int(input(\"Enter a = \"))\n",
    "b = int(input('Enter b = '))\n",
    "o = input(\"Enter operator = \")\n",
    "if o == '+':\n",
    "    print(a+b)\n",
    "elif o == '-':\n",
    "    print(a-b)\n",
    "elif o == '*':\n",
    "    print(a*b)\n",
    "elif o == '/':\n",
    "    print(a/b)\n",
    "else:\n",
    "    print(\"Invalid operator\")"
   ]
  },
  {
   "cell_type": "code",
   "execution_count": 2,
   "metadata": {},
   "outputs": [
    {
     "name": "stdout",
     "output_type": "stream",
     "text": [
      "Enter a = 10\n",
      "Enter b = 20\n",
      "Enter operator = -\n",
      "Enter 1 for a-b or 2 for b-a 2\n",
      "10\n"
     ]
    }
   ],
   "source": [
    "a = int(input(\"Enter a = \"))\n",
    "b = int(input('Enter b = '))\n",
    "o = input(\"Enter operator = \")\n",
    "if o == '+':\n",
    "    print(a+b)\n",
    "elif o == '-':\n",
    "    x = int(input('Enter 1 for a-b or 2 for b-a '))\n",
    "    if x == 1:\n",
    "        print(a-b)\n",
    "    elif x == 2:\n",
    "        print(b-a)\n",
    "elif o == '*':\n",
    "    print(a*b)\n",
    "elif o == '/':\n",
    "    x = int(input('Enter 1 for a/b or 2 for b/a '))\n",
    "    if x == 1:\n",
    "        print(a/b)\n",
    "    elif x == 2:\n",
    "        print(b/a)\n",
    "else:\n",
    "    print(\"Invalid operator\")"
   ]
  },
  {
   "cell_type": "code",
   "execution_count": null,
   "metadata": {},
   "outputs": [],
   "source": []
  },
  {
   "cell_type": "code",
   "execution_count": null,
   "metadata": {},
   "outputs": [],
   "source": []
  }
 ],
 "metadata": {
  "kernelspec": {
   "display_name": "Python 3",
   "language": "python",
   "name": "python3"
  },
  "language_info": {
   "codemirror_mode": {
    "name": "ipython",
    "version": 3
   },
   "file_extension": ".py",
   "mimetype": "text/x-python",
   "name": "python",
   "nbconvert_exporter": "python",
   "pygments_lexer": "ipython3",
   "version": "3.7.1"
  }
 },
 "nbformat": 4,
 "nbformat_minor": 2
}
