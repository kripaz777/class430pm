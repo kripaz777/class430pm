{
 "cells": [
  {
   "cell_type": "code",
   "execution_count": 3,
   "metadata": {},
   "outputs": [
    {
     "name": "stdout",
     "output_type": "stream",
     "text": [
      "Hello World\n"
     ]
    }
   ],
   "source": [
    "class Hello:   #defining Class\n",
    "    print(\"Hello World\")\n",
    "    \n",
    "obj = Hello()    #defining object"
   ]
  },
  {
   "cell_type": "code",
   "execution_count": 6,
   "metadata": {},
   "outputs": [
    {
     "name": "stdout",
     "output_type": "stream",
     "text": [
      "Hello World\n"
     ]
    }
   ],
   "source": [
    "class Hello:    #class\n",
    "    def hello(self):  #method\n",
    "        print(\"Hello World\")\n",
    "        \n",
    "obj = Hello()  #object\n",
    "obj.hello()"
   ]
  },
  {
   "cell_type": "code",
   "execution_count": 2,
   "metadata": {},
   "outputs": [
    {
     "name": "stdout",
     "output_type": "stream",
     "text": [
      "Hello World\n"
     ]
    }
   ],
   "source": [
    "class Hello:    #class\n",
    "    def hello(this,x,y):  #method\n",
    "        print(x,y)\n",
    "        \n",
    "obj = Hello()  #object\n",
    "obj.hello(\"Hello\",\"World\")"
   ]
  },
  {
   "cell_type": "code",
   "execution_count": 17,
   "metadata": {},
   "outputs": [
    {
     "name": "stdout",
     "output_type": "stream",
     "text": [
      "Hello World\n"
     ]
    }
   ],
   "source": [
    "class Hello:   #defining Class\n",
    "    print(\"Hello World\")\n",
    "\n"
   ]
  },
  {
   "cell_type": "code",
   "execution_count": 1,
   "metadata": {},
   "outputs": [
    {
     "name": "stdout",
     "output_type": "stream",
     "text": [
      "Enter l = 2\n",
      "Enter b = 3\n",
      "Enter h = 4\n",
      "6\n",
      "24\n"
     ]
    }
   ],
   "source": [
    "class Cal:\n",
    "    def area(self,l,b):\n",
    "        a = l*b\n",
    "        print(a)\n",
    "    def volume(self,l,b,h):\n",
    "        v = l*b*h\n",
    "        print(v)\n",
    "    \n",
    "x = Cal()\n",
    "l = int(input(\"Enter l = \"))\n",
    "b = int(input(\"Enter b = \"))\n",
    "h = int(input(\"Enter h = \"))\n",
    "x.area(l,b)\n",
    "x.volume(l,b,h)"
   ]
  },
  {
   "cell_type": "code",
   "execution_count": 2,
   "metadata": {},
   "outputs": [
    {
     "name": "stdout",
     "output_type": "stream",
     "text": [
      "15\n",
      "432\n"
     ]
    }
   ],
   "source": [
    "class Cal:\n",
    "    def area(self,l,b):\n",
    "        a = l*b\n",
    "        print(a)\n",
    "    def volume(self,l,b,h):\n",
    "        v = l*b*h\n",
    "        print(v)\n",
    "    \n",
    "x = Cal()\n",
    "\n",
    "x.area(3,5)\n",
    "x.volume(6,8,9)"
   ]
  },
  {
   "cell_type": "code",
   "execution_count": 3,
   "metadata": {},
   "outputs": [
    {
     "name": "stdout",
     "output_type": "stream",
     "text": [
      "Enter l = 10\n",
      "Enter b = 3\n",
      "Enter h = 4\n",
      "30\n",
      "120\n"
     ]
    }
   ],
   "source": [
    "class Cal:\n",
    "    def __init__(self,l,b,h):\n",
    "        self.l = l\n",
    "        self.b = b\n",
    "        self.h = h\n",
    "    def area(self):\n",
    "        a = self.l*self.b\n",
    "        print(a)\n",
    "    def volume(self):\n",
    "        v = self.l*self.b*self.h\n",
    "        print(v)\n",
    "\n",
    "l = int(input(\"Enter l = \"))\n",
    "b = int(input(\"Enter b = \"))\n",
    "h = int(input(\"Enter h = \"))\n",
    "x = Cal(l,b,h)\n",
    "x.area()\n",
    "x.volume()"
   ]
  },
  {
   "cell_type": "code",
   "execution_count": 4,
   "metadata": {},
   "outputs": [
    {
     "name": "stdout",
     "output_type": "stream",
     "text": [
      "Enter l = 10\n",
      "Enter b = 3\n",
      "Enter h = 4\n",
      "30\n",
      "120\n"
     ]
    }
   ],
   "source": [
    "class Cal:\n",
    "    def __init__(self,l,b):\n",
    "        self.l = l\n",
    "        self.b = b\n",
    "\n",
    "    def area(self):\n",
    "        a = self.l*self.b\n",
    "        print(a)\n",
    "    def volume(self,h):\n",
    "        v = self.l*self.b*h\n",
    "        print(v)\n",
    "\n",
    "l = int(input(\"Enter l = \"))\n",
    "b = int(input(\"Enter b = \"))\n",
    "h = int(input(\"Enter h = \"))\n",
    "x = Cal(l,b)\n",
    "x.area()\n",
    "x.volume(h)"
   ]
  },
  {
   "cell_type": "code",
   "execution_count": 5,
   "metadata": {},
   "outputs": [
    {
     "name": "stdout",
     "output_type": "stream",
     "text": [
      "Enter l = 10\n",
      "Enter b = 3\n",
      "Enter h = 4\n",
      "30\n",
      "120\n"
     ]
    }
   ],
   "source": [
    "class Cal:\n",
    "    def __init__(self):\n",
    "        self.l = int(input(\"Enter l = \"))\n",
    "        self.b = int(input(\"Enter b = \"))\n",
    "        self.h = int(input(\"Enter h = \"))\n",
    "    def area(this):\n",
    "        a = this.l*this.b\n",
    "        return a\n",
    "    def volume(self):\n",
    "        v = self.l*self.b*self.h\n",
    "        return v\n",
    "x = Cal()\n",
    "print(x.area())\n",
    "print(x.volume())\n",
    "print(x.l,x.b,x.h)"
   ]
  },
  {
   "cell_type": "code",
   "execution_count": 4,
   "metadata": {},
   "outputs": [
    {
     "name": "stdout",
     "output_type": "stream",
     "text": [
      "Ram\n",
      "<class '__main__.Info'>\n",
      "<class 'str'>\n"
     ]
    }
   ],
   "source": [
    "# str method __str__()\n",
    "class Info:\n",
    "    def __init__(self,name,age,add):\n",
    "        self.name =name\n",
    "        self.age = age\n",
    "        self.add = add  \n",
    "    def __str__(self):\n",
    "        return self.name\n",
    "    def info(self):\n",
    "        return self.name\n",
    "    \n",
    "obj = Info(\"Ram\",56,\"kathmandu\")\n",
    "print(obj)\n",
    "print(obj.__str__())\n",
    "print(str(obj))\n",
    "print(type(obj))\n",
    "x = obj.info()\n",
    "print(type(x))"
   ]
  },
  {
   "cell_type": "code",
   "execution_count": 7,
   "metadata": {},
   "outputs": [
    {
     "name": "stdout",
     "output_type": "stream",
     "text": [
      "Ram\n",
      "RamRam\n"
     ]
    }
   ],
   "source": [
    "# str method __str__()\n",
    "class Info:\n",
    "    def __init__(self,name,age,add):\n",
    "        self.name =name\n",
    "        self.age = age\n",
    "        self.add = add  \n",
    "    def __str__(self):\n",
    "        return self.name\n",
    "    def info(self):\n",
    "        return self.name\n",
    "    \n",
    "obj = Info(\"Ram\",56,\"kathmandu\")\n",
    "print(obj)\n",
    "x = obj.info()\n",
    "print(str(obj)+x)"
   ]
  },
  {
   "cell_type": "code",
   "execution_count": 10,
   "metadata": {},
   "outputs": [
    {
     "name": "stdout",
     "output_type": "stream",
     "text": [
      "Shyam Ram\n"
     ]
    }
   ],
   "source": [
    "# str method __str__()\n",
    "class Info:\n",
    "    def __init__(self,name,age,add):\n",
    "        self.name =name\n",
    "        self.age = age\n",
    "        self.add = add  \n",
    "    def __str__(self):\n",
    "        return self.name\n",
    "    \n",
    "obj = Info(\"Ram\",56,\"kathmandu\")\n",
    "obj1 = Info(\"Shyam\",56,\"kathmandu\")\n",
    "print(obj1,obj)\n",
    "# print(obj+obj1)"
   ]
  },
  {
   "cell_type": "code",
   "execution_count": 15,
   "metadata": {},
   "outputs": [
    {
     "name": "stdout",
     "output_type": "stream",
     "text": [
      "['Ram', 56, 'kathmandu']\n",
      "<class 'list'>\n"
     ]
    }
   ],
   "source": [
    "# str method __repr__()\n",
    "class Info:\n",
    "    def __init__(self,name,age,add):\n",
    "        self.name =name\n",
    "        self.age = age\n",
    "        self.add = add\n",
    "        \n",
    "    def __repr__(self):\n",
    "        return [self.name,self.age,self.add]\n",
    "    \n",
    "obj = Info(\"Ram\",56,\"kathmandu\")\n",
    "\n",
    "x = obj.__repr__()\n",
    "print(x)\n",
    "print(type(x))"
   ]
  },
  {
   "cell_type": "code",
   "execution_count": 16,
   "metadata": {},
   "outputs": [
    {
     "name": "stdout",
     "output_type": "stream",
     "text": [
      "(1,5)\n"
     ]
    }
   ],
   "source": [
    "class Point:\n",
    "    def __init__(self, x = 0, y = 0):\n",
    "        self.x = x\n",
    "        self.y = y\n",
    "    \n",
    "    def __str__(self):\n",
    "        return \"({0},{1})\".format(self.x,self.y)\n",
    "    \n",
    "    def __add__(self,other):\n",
    "        x = self.x + other.x\n",
    "        y = self.y + other.y\n",
    "        return Point(x,y)\n",
    "    \n",
    "p1 = Point(2,3)\n",
    "p2 = Point(-1,2)\n",
    "print(p1 + p2)\n"
   ]
  },
  {
   "cell_type": "code",
   "execution_count": 20,
   "metadata": {},
   "outputs": [
    {
     "name": "stdout",
     "output_type": "stream",
     "text": [
      "This is init method 2000\n",
      "This is init method 3000\n",
      "This is init method 1500\n",
      "This is add method 5000\n",
      "This is init method 5000\n",
      "This is add method 6500\n",
      "This is init method 6500\n",
      "This is str method  6500\n",
      "6500\n"
     ]
    }
   ],
   "source": [
    "class Point:\n",
    "    def __init__(self, x):\n",
    "        self.x = x\n",
    "        print(\"This is init method\",self.x)\n",
    "    \n",
    "    def __str__(self):\n",
    "        print(\"This is str method \",self.x)\n",
    "        return f\"{self.x}\"\n",
    "    \n",
    "    def __add__(self,other):\n",
    "        x = self.x + other.x\n",
    "        print(\"This is add method\",x)\n",
    "        return Point(x)\n",
    "    \n",
    "p1 = Point(2000)\n",
    "p2 = Point(3000)\n",
    "p3 = Point(1500)\n",
    "print(p1 + p2 +p3)\n"
   ]
  },
  {
   "cell_type": "code",
   "execution_count": 23,
   "metadata": {},
   "outputs": [
    {
     "name": "stdout",
     "output_type": "stream",
     "text": [
      "Enter a = 10\n",
      "Enter b = 2\n",
      "Enter o = +\n",
      "12\n"
     ]
    }
   ],
   "source": [
    "class Point:\n",
    "    def __init__(self, x):\n",
    "        self.x = x\n",
    "    def __str__(self):\n",
    "        return f\"{self.x}\"\n",
    "    def __add__(self,other):\n",
    "        x = self.x + other.x\n",
    "        return Point(x)\n",
    "    def __sub__(self,other):\n",
    "        x = self.x - other.x\n",
    "        return Point(x)\n",
    "\n",
    "a = int(input(\"Enter a = \"))\n",
    "b = int(input(\"Enter b = \"))\n",
    "o = input(\"Enter o = \")\n",
    "p1 = Point(a)\n",
    "p2 = Point(b)\n",
    "if o =='+':\n",
    "    print(p1 + p2)\n",
    "else:\n",
    "    print(p1-p2)"
   ]
  },
  {
   "cell_type": "code",
   "execution_count": null,
   "metadata": {},
   "outputs": [],
   "source": []
  }
 ],
 "metadata": {
  "kernelspec": {
   "display_name": "Python 3",
   "language": "python",
   "name": "python3"
  },
  "language_info": {
   "codemirror_mode": {
    "name": "ipython",
    "version": 3
   },
   "file_extension": ".py",
   "mimetype": "text/x-python",
   "name": "python",
   "nbconvert_exporter": "python",
   "pygments_lexer": "ipython3",
   "version": "3.7.1"
  }
 },
 "nbformat": 4,
 "nbformat_minor": 2
}
