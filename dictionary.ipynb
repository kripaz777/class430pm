{
 "cells": [
  {
   "cell_type": "code",
   "execution_count": 1,
   "metadata": {},
   "outputs": [],
   "source": [
    "a = {}\n",
    "# b = {<Key>:<Value>,<key>:<value>}\n",
    "# Dictionary\n",
    "# -Indexed\n",
    "# -Ordered\n",
    "# -Duplicate Values\n",
    "# -Mutable"
   ]
  },
  {
   "cell_type": "code",
   "execution_count": 4,
   "metadata": {},
   "outputs": [
    {
     "name": "stdout",
     "output_type": "stream",
     "text": [
      "Apple\n",
      "Ball\n",
      "2\n"
     ]
    }
   ],
   "source": [
    "a = {\"A\":\"Apple\",\"B\":\"Ball\"}\n",
    "print(a[\"A\"])\n",
    "print(a[\"B\"])\n",
    "print(len(a))"
   ]
  },
  {
   "cell_type": "code",
   "execution_count": 5,
   "metadata": {},
   "outputs": [
    {
     "name": "stdout",
     "output_type": "stream",
     "text": [
      "{'A': 'Apple', 'B': 'Ball'}\n"
     ]
    }
   ],
   "source": [
    "a = {\"A\":\"Apple\",\"B\":\"Ball\"}\n",
    "print(a)"
   ]
  },
  {
   "cell_type": "code",
   "execution_count": 7,
   "metadata": {},
   "outputs": [
    {
     "name": "stdout",
     "output_type": "stream",
     "text": [
      "{'A': 'Apple', 'B': 'Ball', 'a': 'Apple'}\n"
     ]
    }
   ],
   "source": [
    "a = {\"A\":\"Apple\",\"B\":\"Ball\",\"a\":\"Apple\"}\n",
    "print(a)"
   ]
  },
  {
   "cell_type": "code",
   "execution_count": 9,
   "metadata": {},
   "outputs": [
    {
     "name": "stdout",
     "output_type": "stream",
     "text": [
      "{'A': 'Ant', 'B': 'Ball'}\n"
     ]
    }
   ],
   "source": [
    "a = {\"A\":\"Apple\",\"B\":\"Ball\",\"A\":\"Ant\"}\n",
    "print(a)"
   ]
  },
  {
   "cell_type": "code",
   "execution_count": 10,
   "metadata": {},
   "outputs": [
    {
     "name": "stdout",
     "output_type": "stream",
     "text": [
      "{'A': 'Apple', 'B': 'Ball'}\n"
     ]
    }
   ],
   "source": [
    "a = {}\n",
    "a[\"A\"] = \"Apple\"\n",
    "a[\"B\"] = \"Ball\"\n",
    "print(a)"
   ]
  },
  {
   "cell_type": "code",
   "execution_count": 11,
   "metadata": {},
   "outputs": [
    {
     "name": "stdout",
     "output_type": "stream",
     "text": [
      "{'Ram': 9856554543, 'Shyam': 9834339087}\n"
     ]
    }
   ],
   "source": [
    "a = {}\n",
    "a[\"Ram\"] = 9856554543\n",
    "a[\"Shyam\"] = 9834339087\n",
    "print(a)"
   ]
  },
  {
   "cell_type": "code",
   "execution_count": 12,
   "metadata": {},
   "outputs": [
    {
     "name": "stdout",
     "output_type": "stream",
     "text": [
      "Enter n = 3\n",
      "Enter Name = Ram\n",
      "Enter Phone = 9856554543\n",
      "Enter Name = Shyam\n",
      "Enter Phone = 9845445432\n",
      "Enter Name = hari\n",
      "Enter Phone = 9767665654\n",
      "{'Ram': 9856554543, 'Shyam': 9845445432, 'hari': 9767665654}\n"
     ]
    }
   ],
   "source": [
    "data = {}\n",
    "n = int(input(\"Enter n = \"))\n",
    "for i in range(n):\n",
    "    name = input(\"Enter Name = \")\n",
    "    phone = int(input(\"Enter Phone = \"))\n",
    "    data[name] = phone\n",
    "    \n",
    "print(data)"
   ]
  },
  {
   "cell_type": "code",
   "execution_count": 17,
   "metadata": {},
   "outputs": [
    {
     "name": "stdout",
     "output_type": "stream",
     "text": [
      "Ram\n",
      "Shyam\n",
      "hari\n"
     ]
    }
   ],
   "source": [
    "for i in data:\n",
    "    print(i)"
   ]
  },
  {
   "cell_type": "code",
   "execution_count": 18,
   "metadata": {},
   "outputs": [
    {
     "name": "stdout",
     "output_type": "stream",
     "text": [
      "9856554543\n",
      "9845445432\n",
      "9767665654\n"
     ]
    }
   ],
   "source": [
    "for i in data.values():\n",
    "    print(i)"
   ]
  },
  {
   "cell_type": "code",
   "execution_count": 19,
   "metadata": {},
   "outputs": [
    {
     "name": "stdout",
     "output_type": "stream",
     "text": [
      "('Ram', 9856554543)\n",
      "('Shyam', 9845445432)\n",
      "('hari', 9767665654)\n"
     ]
    }
   ],
   "source": [
    "for i in data.items():\n",
    "    print(i)"
   ]
  },
  {
   "cell_type": "code",
   "execution_count": 22,
   "metadata": {},
   "outputs": [
    {
     "name": "stdout",
     "output_type": "stream",
     "text": [
      "Enter phone = 9845445432\n",
      "('Shyam', 9845445432)\n"
     ]
    }
   ],
   "source": [
    "phone = int(input(\"Enter phone = \"))\n",
    "for i in data.items():\n",
    "    if phone in i:\n",
    "        print(i)"
   ]
  },
  {
   "cell_type": "code",
   "execution_count": 25,
   "metadata": {},
   "outputs": [
    {
     "name": "stdout",
     "output_type": "stream",
     "text": [
      "{'Shyam': 9845445432, 'hari': 9767665654}\n"
     ]
    }
   ],
   "source": [
    "del data['Ram']\n",
    "print(data)"
   ]
  },
  {
   "cell_type": "code",
   "execution_count": 27,
   "metadata": {},
   "outputs": [
    {
     "data": {
      "text/plain": [
       "{'Shyam': 9845445432, 'hari': 9767665654}"
      ]
     },
     "execution_count": 27,
     "metadata": {},
     "output_type": "execute_result"
    }
   ],
   "source": [
    "data = {'Ram': 9856554543, \n",
    "        'Shyam': 9845445432, 'hari': 9767665654}\n",
    "data.pop(\"Ram\")\n",
    "data"
   ]
  },
  {
   "cell_type": "code",
   "execution_count": 31,
   "metadata": {},
   "outputs": [
    {
     "name": "stdout",
     "output_type": "stream",
     "text": [
      "Enter phone = 9845445432\n",
      "['Shyam']\n",
      "{'Ram': 9856554543, 'Shyam': 9845445432, 'hari': 9767665654}\n",
      "{'Ram': 9856554543, 'hari': 9767665654}\n"
     ]
    }
   ],
   "source": [
    "index = []\n",
    "data = {'Ram': 9856554543, 'Shyam': 9845445432, 'hari': 9767665654}\n",
    "phone = int(input(\"Enter phone = \"))\n",
    "for i in data.items():\n",
    "    if phone in i:\n",
    "        index.append(i[0])\n",
    "print(index)\n",
    "key = index[0]\n",
    "del data[key]\n",
    "print(data)"
   ]
  },
  {
   "cell_type": "code",
   "execution_count": 33,
   "metadata": {},
   "outputs": [
    {
     "name": "stdout",
     "output_type": "stream",
     "text": [
      "(('Ram', 'Shyam'), 985655654)\n"
     ]
    }
   ],
   "source": [
    "a = {(\"Ram\",\"Shyam\"):985655654}\n",
    "for i in a.items():\n",
    "    print(i)"
   ]
  },
  {
   "cell_type": "code",
   "execution_count": 34,
   "metadata": {},
   "outputs": [
    {
     "data": {
      "text/plain": [
       "985655654"
      ]
     },
     "execution_count": 34,
     "metadata": {},
     "output_type": "execute_result"
    }
   ],
   "source": [
    "key = (\"Ram\",\"Shyam\")\n",
    "a[key]"
   ]
  },
  {
   "cell_type": "code",
   "execution_count": 35,
   "metadata": {},
   "outputs": [],
   "source": [
    "# list inside dict\n",
    "# tuple inside dic\n",
    "# dict inside dict"
   ]
  },
  {
   "cell_type": "code",
   "execution_count": 36,
   "metadata": {},
   "outputs": [
    {
     "name": "stdout",
     "output_type": "stream",
     "text": [
      "{'A': ['Apple', 'Ant'], 'B': ['Ball', 'Bat']}\n"
     ]
    }
   ],
   "source": [
    "# list inside dict\n",
    "a = {\"A\":[\"Apple\",\"Ant\"],\"B\":[\"Ball\",\"Bat\"]}\n",
    "print(a)"
   ]
  },
  {
   "cell_type": "code",
   "execution_count": 37,
   "metadata": {},
   "outputs": [
    {
     "name": "stdout",
     "output_type": "stream",
     "text": [
      "('A', ['Apple', 'Ant'])\n",
      "('B', ['Ball', 'Bat'])\n"
     ]
    }
   ],
   "source": [
    "for i in a.items():\n",
    "    print(i)"
   ]
  },
  {
   "cell_type": "code",
   "execution_count": 38,
   "metadata": {},
   "outputs": [
    {
     "name": "stdout",
     "output_type": "stream",
     "text": [
      "{'A': ['Apple', 'Ant'], 'B': ['Ball', 'Bat'], 'C': ['Cat', 'Can']}\n"
     ]
    }
   ],
   "source": [
    "a = {\"A\":[\"Apple\",\"Ant\"],\"B\":[\"Ball\",\"Bat\"]}\n",
    "a[\"C\"] = [\"Cat\",\"Can\"]\n",
    "print(a)"
   ]
  },
  {
   "cell_type": "code",
   "execution_count": 39,
   "metadata": {},
   "outputs": [
    {
     "name": "stdout",
     "output_type": "stream",
     "text": [
      "Enter n = 2\n",
      "Enter name = Ram\n",
      "Enter ntc phone no = 345345\n",
      "Enter ncell phone no = 35345\n",
      "Enter name = Shyam\n",
      "Enter ntc phone no = 345545\n",
      "Enter ncell phone no = 435435\n",
      "{'Ram': [345345, 35345], 'Shyam': [345545, 435435]}\n"
     ]
    }
   ],
   "source": [
    "data = {}\n",
    "n = int(input(\"Enter n = \"))\n",
    "for i in range(n):\n",
    "    name = input(\"Enter name = \")\n",
    "    ntc = int(input(\"Enter ntc phone no = \"))\n",
    "    ncell = int(input(\"Enter ncell phone no = \"))\n",
    "    data[name] = [ntc,ncell]\n",
    "print(data)"
   ]
  },
  {
   "cell_type": "code",
   "execution_count": 40,
   "metadata": {},
   "outputs": [
    {
     "data": {
      "text/plain": [
       "{'Ram': [345345, 9856556534], 'Shyam': [345545, 435435]}"
      ]
     },
     "execution_count": 40,
     "metadata": {},
     "output_type": "execute_result"
    }
   ],
   "source": [
    "a = {'Ram': [345345, 35345], \n",
    "     'Shyam': [345545, 435435]}\n",
    "a['Ram'][1] = 9856556534\n",
    "a"
   ]
  },
  {
   "cell_type": "code",
   "execution_count": 42,
   "metadata": {},
   "outputs": [
    {
     "name": "stdout",
     "output_type": "stream",
     "text": [
      "Enter phone = 9856556534\n",
      "('Ram', [345345, 9856556534])\n"
     ]
    }
   ],
   "source": [
    "data = {'Ram': [345345, 9856556534], 'Shyam': [345545, 435435]}\n",
    "phone = int(input(\"Enter phone = \"))\n",
    "for i in data.items():\n",
    "    if phone in i[1]:\n",
    "        print(i)"
   ]
  },
  {
   "cell_type": "code",
   "execution_count": 41,
   "metadata": {},
   "outputs": [
    {
     "name": "stdout",
     "output_type": "stream",
     "text": [
      "('Ram', [345345, 9856556534])\n",
      "('Shyam', [345545, 435435])\n"
     ]
    }
   ],
   "source": [
    "data = {'Ram': [345345, 9856556534], 'Shyam': [345545, 435435]}\n",
    "for i in data.items():\n",
    "    print(i)"
   ]
  },
  {
   "cell_type": "code",
   "execution_count": 1,
   "metadata": {},
   "outputs": [],
   "source": [
    "# dict inside dict\n",
    "# a = {<key>:{},<key>:{}}\n"
   ]
  },
  {
   "cell_type": "code",
   "execution_count": 2,
   "metadata": {},
   "outputs": [
    {
     "data": {
      "text/plain": [
       "dict"
      ]
     },
     "execution_count": 2,
     "metadata": {},
     "output_type": "execute_result"
    }
   ],
   "source": [
    "a = {\"Ram\":{\"NTC\":98413343212,\"Ncell\":9808445432},\n",
    "     \"Shyam\":{\"NTC\":98413343212,\"Ncell\":9808445432}}\n",
    "type(a)"
   ]
  },
  {
   "cell_type": "code",
   "execution_count": 3,
   "metadata": {},
   "outputs": [
    {
     "data": {
      "text/plain": [
       "{'Ram': {'NTC': 98413343212, 'Ncell': 9808445432},\n",
       " 'Shyam': {'NTC': 98413343212, 'Ncell': 9808445432},\n",
       " 'Hari': {'NTC': 9841778643, 'Ncell': 9808447876}}"
      ]
     },
     "execution_count": 3,
     "metadata": {},
     "output_type": "execute_result"
    }
   ],
   "source": [
    "a[\"Hari\"] = {\"NTC\":9841778643,\"Ncell\":9808447876}\n",
    "a"
   ]
  },
  {
   "cell_type": "code",
   "execution_count": 6,
   "metadata": {},
   "outputs": [
    {
     "data": {
      "text/plain": [
       "{'Ram': {'NTC': 98413343212, 'Ncell': 9808445432},\n",
       " 'Shyam': {'NTC': 98413343212, 'Ncell': 9808445432},\n",
       " 'Hari': {'NTC': 9856554543, 'Ncell': 9808447876}}"
      ]
     },
     "execution_count": 6,
     "metadata": {},
     "output_type": "execute_result"
    }
   ],
   "source": [
    "a[\"Hari\"][\"NTC\"] = 9856554543\n",
    "a"
   ]
  },
  {
   "cell_type": "code",
   "execution_count": 7,
   "metadata": {},
   "outputs": [
    {
     "data": {
      "text/plain": [
       "{'Ram': {'NTC': 98413343212, 'Ncell': 9808445432},\n",
       " 'Shyam': {'NTC': 98413343212, 'Ncell': 9808445432},\n",
       " 'Hari': {'NTC': 9841778643, 'Ncell': 9808447876}}"
      ]
     },
     "execution_count": 7,
     "metadata": {},
     "output_type": "execute_result"
    }
   ],
   "source": [
    "a[\"Hari\"] = {\"NTC\":9841778643,\"Ncell\":9808447876}\n",
    "a"
   ]
  },
  {
   "cell_type": "code",
   "execution_count": 8,
   "metadata": {},
   "outputs": [
    {
     "data": {
      "text/plain": [
       "{'Ram': {'NTC': 98413343212, 'Ncell': 9808445432},\n",
       " 'Shyam': {'NTC': 98413343212, 'Ncell': 9808445432},\n",
       " 'Hari': {'NTC': 9841778643, 'Ncell': 9808447876, 'Land': 4457670}}"
      ]
     },
     "execution_count": 8,
     "metadata": {},
     "output_type": "execute_result"
    }
   ],
   "source": [
    "a[\"Hari\"][\"Land\"] = 4457670\n",
    "a"
   ]
  },
  {
   "cell_type": "code",
   "execution_count": 9,
   "metadata": {},
   "outputs": [],
   "source": [
    "# dict inside list\n",
    "a = [{'Name':\"Ram\",'NTC': 98413343212, 'Ncell': 9808445432},\n",
    "     {'Name':'Shyam','NTC': 98413343212, 'Ncell': 9808445432},\n",
    "     {'Name':\"Hari\",'NTC': 9841778643, 'Ncell': 9808447876}\n",
    "    ]"
   ]
  },
  {
   "cell_type": "code",
   "execution_count": 10,
   "metadata": {},
   "outputs": [
    {
     "name": "stdout",
     "output_type": "stream",
     "text": [
      "Enter n = 2\n",
      "Enter name = Ram\n",
      "Enter ntc = 9856554543\n",
      "Enter ncell = 9845443432\n",
      "Enter name = Shyam\n",
      "Enter ntc = 9856554543\n",
      "Enter ncell = 98056654543\n",
      "[{'Name': 'Ram', 'NTC': 9856554543, 'Ncell': 9845443432}, {'Name': 'Shyam', 'NTC': 9856554543, 'Ncell': 98056654543}]\n"
     ]
    }
   ],
   "source": [
    "a = []\n",
    "n = int(input(\"Enter n = \"))\n",
    "for i in range(n):\n",
    "    name = input(\"Enter name = \")\n",
    "    ntc = int(input(\"Enter ntc = \"))\n",
    "    ncell = int(input(\"Enter ncell = \"))\n",
    "    data = {'Name':name,\"NTC\":ntc,\"Ncell\":ncell}\n",
    "    a.append(data)\n",
    "    \n",
    "print(a)"
   ]
  },
  {
   "cell_type": "code",
   "execution_count": 15,
   "metadata": {},
   "outputs": [
    {
     "name": "stdout",
     "output_type": "stream",
     "text": [
      "Ram\n",
      "9856554543\n",
      "9845443432\n",
      "Shyam\n",
      "9856554543\n",
      "98056654543\n"
     ]
    }
   ],
   "source": [
    "for i in a:\n",
    "    print(i[\"Name\"])\n",
    "    print(i[\"NTC\"])\n",
    "    print(i[\"Ncell\"])"
   ]
  },
  {
   "cell_type": "code",
   "execution_count": 17,
   "metadata": {},
   "outputs": [
    {
     "data": {
      "text/plain": [
       "'Ram'"
      ]
     },
     "execution_count": 17,
     "metadata": {},
     "output_type": "execute_result"
    }
   ],
   "source": [
    "a = [{'Name': 'Ram', 'NTC': 9856554543, 'Ncell': 9845443432}, \n",
    "     {'Name': 'Shyam', 'NTC': 9856554543, 'Ncell': 98056654543}]\n"
   ]
  },
  {
   "cell_type": "code",
   "execution_count": null,
   "metadata": {},
   "outputs": [],
   "source": [
    "# WAP to enter data of students (marks) and make a complete system"
   ]
  },
  {
   "cell_type": "code",
   "execution_count": 18,
   "metadata": {},
   "outputs": [],
   "source": [
    "# 1.data entry (name and marks of different subjects)\n",
    "# 2.display data (choice of user)\n",
    "# 3.Edit\n",
    "# 4.Update\n",
    "# 5.delete"
   ]
  },
  {
   "cell_type": "code",
   "execution_count": 21,
   "metadata": {},
   "outputs": [
    {
     "name": "stdout",
     "output_type": "stream",
     "text": [
      "Enter name = Ram\n",
      "{'Name': 'Ram', 'NTC': 9856554543, 'Ncell': 9845443432}\n"
     ]
    }
   ],
   "source": [
    "name = input(\"Enter name = \")\n",
    "a = [{'Name': 'Ram', 'NTC': 9856554543, 'Ncell': 9845443432}, \n",
    "     {'Name': 'Shyam', 'NTC': 9856554543, 'Ncell': 98056654543}]\n",
    "for i in a:\n",
    "    if i['Name'] == name:\n",
    "        print(i)"
   ]
  },
  {
   "cell_type": "code",
   "execution_count": 24,
   "metadata": {},
   "outputs": [
    {
     "name": "stdout",
     "output_type": "stream",
     "text": [
      "Enter name = Ram\n"
     ]
    }
   ],
   "source": [
    "index = []\n",
    "name = input(\"Enter name = \")\n",
    "a = [{'Name': 'Ram', 'NTC': 9856554543, 'Ncell': 9845443432}, \n",
    "     {'Name': 'Shyam', 'NTC': 9856554543, 'Ncell': 98056654543}]\n",
    "for i in range(len(a)):\n",
    "    if a[i][\"Name\"] == name:\n",
    "        index.append(i)"
   ]
  },
  {
   "cell_type": "code",
   "execution_count": 27,
   "metadata": {},
   "outputs": [
    {
     "data": {
      "text/plain": [
       "[{'Name': 'Ram', 'NTC': 9841998987, 'Ncell': 9845443432, 'NCT': 9841998987},\n",
       " {'Name': 'Shyam', 'NTC': 9856554543, 'Ncell': 98056654543}]"
      ]
     },
     "execution_count": 27,
     "metadata": {},
     "output_type": "execute_result"
    }
   ],
   "source": [
    "a[index[0]][\"NTC\"] = 9841998987\n",
    "a"
   ]
  },
  {
   "cell_type": "code",
   "execution_count": 31,
   "metadata": {},
   "outputs": [
    {
     "data": {
      "text/plain": [
       "[{'Product': 'Apple', 'Quantity': 4, 'Price': 100, 'Total': 400},\n",
       " {'Product': 'Ball', 'Quantity': 2, 'Price': 200, 'Total': 400}]"
      ]
     },
     "execution_count": 31,
     "metadata": {},
     "output_type": "execute_result"
    }
   ],
   "source": [
    "bill = [{\"Product\":\"Apple\",\"Quantity\":3,\"Price\":100,\"Total\":300},\n",
    "    {\"Product\":\"Ball\",\"Quantity\":2,\"Price\":200,\"Total\":400}]\n",
    "bill[0]['Quantity'] =4\n",
    "q = bill[0]['Quantity']\n",
    "p = bill[0]['Price']\n",
    "total =  q*p \n",
    "bill[0]['Total'] = total\n",
    "bill"
   ]
  },
  {
   "cell_type": "code",
   "execution_count": 2,
   "metadata": {},
   "outputs": [
    {
     "data": {
      "text/plain": [
       "{'Ram': [345345, 9856556534, 4489887], 'Shyam': [345545, 435435]}"
      ]
     },
     "execution_count": 2,
     "metadata": {},
     "output_type": "execute_result"
    }
   ],
   "source": [
    "a = {'Ram': [345345, 9856556534], 'Shyam': [345545, 435435]}\n",
    "a['Ram'].append(4489887)\n",
    "a"
   ]
  },
  {
   "cell_type": "code",
   "execution_count": 4,
   "metadata": {},
   "outputs": [],
   "source": [
    "b = a['Ram']"
   ]
  },
  {
   "cell_type": "code",
   "execution_count": 6,
   "metadata": {},
   "outputs": [
    {
     "data": {
      "text/plain": [
       "1"
      ]
     },
     "execution_count": 6,
     "metadata": {},
     "output_type": "execute_result"
    }
   ],
   "source": [
    "i = b.index(9856556534)\n",
    "i"
   ]
  },
  {
   "cell_type": "code",
   "execution_count": 7,
   "metadata": {},
   "outputs": [
    {
     "data": {
      "text/plain": [
       "{'Ram': [7656657657, 345345, 9856556534, 4489887], 'Shyam': [345545, 435435]}"
      ]
     },
     "execution_count": 7,
     "metadata": {},
     "output_type": "execute_result"
    }
   ],
   "source": [
    "a['Ram'].insert(0,7656657657)\n",
    "a"
   ]
  },
  {
   "cell_type": "code",
   "execution_count": null,
   "metadata": {},
   "outputs": [],
   "source": []
  }
 ],
 "metadata": {
  "kernelspec": {
   "display_name": "Python 3",
   "language": "python",
   "name": "python3"
  },
  "language_info": {
   "codemirror_mode": {
    "name": "ipython",
    "version": 3
   },
   "file_extension": ".py",
   "mimetype": "text/x-python",
   "name": "python",
   "nbconvert_exporter": "python",
   "pygments_lexer": "ipython3",
   "version": "3.7.1"
  }
 },
 "nbformat": 4,
 "nbformat_minor": 2
}
