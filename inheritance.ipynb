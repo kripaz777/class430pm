{
 "cells": [
  {
   "cell_type": "code",
   "execution_count": 1,
   "metadata": {},
   "outputs": [
    {
     "name": "stdout",
     "output_type": "stream",
     "text": [
      "Ram Nepal\n"
     ]
    }
   ],
   "source": [
    "class Info:\n",
    "    def __init__(self,name,address):\n",
    "        self.name= name\n",
    "        self.address = address\n",
    "        \n",
    "class Hr(Info):\n",
    "    def hr(self):\n",
    "        print(self.name,self.address)\n",
    "obj = Hr(\"Ram\",\"Nepal\")\n",
    "obj.hr()"
   ]
  },
  {
   "cell_type": "code",
   "execution_count": 2,
   "metadata": {},
   "outputs": [
    {
     "name": "stdout",
     "output_type": "stream",
     "text": [
      "Enter name = Ram\n",
      "Enter address = Kathmandu\n",
      "Ram Kathmandu\n"
     ]
    }
   ],
   "source": [
    "class Info:\n",
    "    def __init__(self):\n",
    "        self.name= input(\"Enter name = \")\n",
    "        self.address = input(\"Enter address = \")\n",
    "        \n",
    "class Hr(Info):\n",
    "    def hr(self):\n",
    "        print(self.name,self.address)\n",
    "        \n",
    "obj = Hr()\n",
    "obj.hr()"
   ]
  },
  {
   "cell_type": "code",
   "execution_count": 6,
   "metadata": {},
   "outputs": [
    {
     "name": "stdout",
     "output_type": "stream",
     "text": [
      "This is class A\n",
      "This is class B\n",
      "This is class C\n"
     ]
    }
   ],
   "source": [
    "class A:\n",
    "    print(\"This is class A\")\n",
    "class B(A):\n",
    "    print(\"This is class B\")\n",
    "\n",
    "class C(B):\n",
    "    print(\"This is class C\")\n",
    "\n",
    "c = C()"
   ]
  },
  {
   "cell_type": "code",
   "execution_count": 9,
   "metadata": {},
   "outputs": [
    {
     "name": "stdout",
     "output_type": "stream",
     "text": [
      "Enter name = asasd\n",
      "Enter address = ssdasd\n",
      "This is office class asasd\n"
     ]
    }
   ],
   "source": [
    "class Info:\n",
    "    def __init__(self):\n",
    "        self.name= input(\"Enter name = \")\n",
    "        self.address = input(\"Enter address = \")\n",
    "    \n",
    "class Hr(Info):\n",
    "    def hr(self):\n",
    "        print(self.name,self.address)\n",
    "        \n",
    "class Office(Hr):\n",
    "    def office(self):\n",
    "        print(\"This is office class\",self.name)\n",
    "        \n",
    "obj = Office()\n",
    "obj.office()"
   ]
  },
  {
   "cell_type": "code",
   "execution_count": 10,
   "metadata": {},
   "outputs": [
    {
     "name": "stdout",
     "output_type": "stream",
     "text": [
      "This is office class Ram\n"
     ]
    }
   ],
   "source": [
    "class Info:\n",
    "    def __init__(self,name,address):\n",
    "        self.name= name\n",
    "        self.address = address\n",
    "    \n",
    "class Hr(Info):\n",
    "    def hr(self):\n",
    "        print(self.name,self.address)\n",
    "        \n",
    "class Office(Hr):\n",
    "    def office(self):\n",
    "        print(\"This is office class\",self.name)\n",
    "        \n",
    "obj = Office(\"Ram\",\"Kathmandu\")\n",
    "obj.office()"
   ]
  },
  {
   "cell_type": "code",
   "execution_count": 14,
   "metadata": {},
   "outputs": [
    {
     "name": "stdout",
     "output_type": "stream",
     "text": [
      "This is office class Ram\n",
      "Ram Kathmandu\n"
     ]
    }
   ],
   "source": [
    "class Info:\n",
    "    def __init__(self,address):\n",
    "        self.address= address\n",
    "    \n",
    "class Hr(Info):\n",
    "    def __init__(self,name,address):\n",
    "        self.name = name\n",
    "        Info.__init__(self,address)\n",
    "    def hr(self):\n",
    "        print(self.name,self.address)\n",
    "        \n",
    "class Office(Hr):\n",
    "    def office(self):\n",
    "        print(\"This is office class\",self.name)\n",
    "        \n",
    "obj = Office(\"Ram\",\"Kathmandu\")\n",
    "obj.office()\n",
    "obj.hr()"
   ]
  },
  {
   "cell_type": "code",
   "execution_count": 16,
   "metadata": {},
   "outputs": [
    {
     "name": "stdout",
     "output_type": "stream",
     "text": [
      "1\n",
      "Ram Kathmandu\n"
     ]
    }
   ],
   "source": [
    "class Info:\n",
    "    def __init__(self,address):\n",
    "        self.address= address\n",
    "    \n",
    "class Hr(Info):\n",
    "    def __init__(self,name,address):\n",
    "        self.name = name\n",
    "        Info.__init__(self,address)\n",
    "    def hr(self):\n",
    "        print(self.name,self.address)\n",
    "        \n",
    "class Office(Hr):\n",
    "    def __init__(self,id,name,address):\n",
    "        self.id = id\n",
    "        Hr.__init__(self,name,address)\n",
    "    def office(self):\n",
    "        print(self.id)\n",
    "\n",
    "        \n",
    "obj = Office(1,\"Ram\",\"Kathmandu\")\n",
    "obj.office()\n",
    "obj.hr()"
   ]
  },
  {
   "cell_type": "code",
   "execution_count": 19,
   "metadata": {},
   "outputs": [],
   "source": [
    "class A:\n",
    "    pass\n",
    "\n",
    "class B:\n",
    "    pass\n",
    "\n",
    "class C(A,B):\n",
    "    pass\n",
    "c = C()"
   ]
  },
  {
   "cell_type": "code",
   "execution_count": 1,
   "metadata": {},
   "outputs": [
    {
     "name": "stdout",
     "output_type": "stream",
     "text": [
      "Ram Kathmandu\n"
     ]
    }
   ],
   "source": [
    "class Info:\n",
    "    def __init__(self,address):\n",
    "        self.address= address\n",
    "    \n",
    "class Hr:\n",
    "    def __init__(self,name):\n",
    "        self.name = name\n",
    "        \n",
    "class Office(Info,Hr):\n",
    "    def __init__(self,name,address):\n",
    "        Hr.__init__(self,name)\n",
    "        Info.__init__(self,address)\n",
    "    def office(self):\n",
    "        print(self.name,self.address)\n",
    "\n",
    "        \n",
    "obj = Office(\"Ram\",\"Kathmandu\")\n",
    "obj.office()"
   ]
  },
  {
   "cell_type": "code",
   "execution_count": 3,
   "metadata": {},
   "outputs": [
    {
     "name": "stdout",
     "output_type": "stream",
     "text": [
      "Enter name = Ram\n",
      "Enter address = Kathmandu\n",
      "Ram Kathmandu\n"
     ]
    }
   ],
   "source": [
    "class Info:\n",
    "    def __init__(self):\n",
    "        self.address= input(\"Enter address = \")\n",
    "    \n",
    "class Hr:\n",
    "    def __init__(self):\n",
    "        self.name = input(\"Enter name = \")\n",
    "        \n",
    "class Office(Info,Hr):\n",
    "    def __init__(self):\n",
    "        Hr.__init__(self)\n",
    "        Info.__init__(self)\n",
    "    def office(self):\n",
    "        print(self.name,self.address)\n",
    "\n",
    "        \n",
    "obj = Office()\n",
    "obj.office()"
   ]
  },
  {
   "cell_type": "code",
   "execution_count": 2,
   "metadata": {},
   "outputs": [
    {
     "name": "stdout",
     "output_type": "stream",
     "text": [
      "Ram\n",
      "23\n"
     ]
    }
   ],
   "source": [
    "# Public attributes\n",
    "class Info:\n",
    "    def __init__(self,name,age):\n",
    "        self.name = name\n",
    "        self.age = age\n",
    "obj = Info(\"Ram\",23)\n",
    "\n",
    "print(obj.name)\n",
    "print(obj.age)"
   ]
  },
  {
   "cell_type": "code",
   "execution_count": 4,
   "metadata": {},
   "outputs": [
    {
     "name": "stdout",
     "output_type": "stream",
     "text": [
      "Ram\n",
      "23\n"
     ]
    }
   ],
   "source": [
    "# Protected attributes\n",
    "class Info:\n",
    "    def __init__(self,name,age):\n",
    "        self._name = name\n",
    "        self._age = age\n",
    "obj = Info(\"Ram\",23)\n",
    "\n",
    "print(obj._name)\n",
    "print(obj._age)"
   ]
  },
  {
   "cell_type": "code",
   "execution_count": 6,
   "metadata": {},
   "outputs": [
    {
     "name": "stdout",
     "output_type": "stream",
     "text": [
      "Ram\n",
      "23\n"
     ]
    }
   ],
   "source": [
    "# Private attributes\n",
    "class Info:\n",
    "    def __init__(self,name,age):\n",
    "        self.__name = name\n",
    "        self.__age = age\n",
    "obj = Info(\"Ram\",23)\n",
    "\n",
    "print(obj._Info__name)\n",
    "print(obj._Info__age)"
   ]
  },
  {
   "cell_type": "code",
   "execution_count": 8,
   "metadata": {},
   "outputs": [
    {
     "name": "stdout",
     "output_type": "stream",
     "text": [
      "Enter name = Ram\n",
      "Enter address = Kathmandu\n",
      "Enter age = 78\n",
      "Ram 78\n"
     ]
    }
   ],
   "source": [
    "class Info:\n",
    "    def __init__(self):\n",
    "        self.__address= input(\"Enter address = \")\n",
    "        self._age = int(input(\"Enter age = \"))\n",
    "    \n",
    "class Hr:\n",
    "    def __init__(self):\n",
    "        self.name = input(\"Enter name = \")\n",
    "        \n",
    "class Office(Info,Hr):\n",
    "    def __init__(self):\n",
    "        Hr.__init__(self)\n",
    "        Info.__init__(self)\n",
    "    def office(self):\n",
    "        print(self.name,self._age)\n",
    "\n",
    "        \n",
    "obj = Office()\n",
    "obj.office()"
   ]
  },
  {
   "cell_type": "code",
   "execution_count": 9,
   "metadata": {},
   "outputs": [
    {
     "name": "stdout",
     "output_type": "stream",
     "text": [
      "Enter name = Ram\n",
      "Enter address = Kathmandu\n",
      "Enter age = 78\n",
      "Ram 78 Kathmandu\n"
     ]
    }
   ],
   "source": [
    "class Info:\n",
    "    def __init__(self):\n",
    "        self.__address= input(\"Enter address = \")\n",
    "        self._age = int(input(\"Enter age = \"))\n",
    "    \n",
    "class Hr:\n",
    "    def __init__(self):\n",
    "        self.name = input(\"Enter name = \")\n",
    "        \n",
    "class Office(Info,Hr):\n",
    "    def __init__(self):\n",
    "        Hr.__init__(self)\n",
    "        Info.__init__(self)\n",
    "    def office(self):\n",
    "        print(self.name,self._age,self._Info__address)\n",
    "\n",
    "        \n",
    "obj = Office()\n",
    "obj.office()"
   ]
  },
  {
   "cell_type": "code",
   "execution_count": 12,
   "metadata": {},
   "outputs": [
    {
     "name": "stdout",
     "output_type": "stream",
     "text": [
      "Enter name = Ram\n",
      "Enter address = Kathmandu\n",
      "Enter age = 56\n",
      "Hello I am from Kathmandu. I am 56\n"
     ]
    }
   ],
   "source": [
    "class Info:\n",
    "    def __init__(self):\n",
    "        self.__address= input(\"Enter address = \")\n",
    "        self._age = int(input(\"Enter age = \"))\n",
    "    def info(self):\n",
    "        return f\"Hello I am from {self.__address}. I am {self._age}\"\n",
    "class Hr:\n",
    "    def __init__(self):\n",
    "        self.name = input(\"Enter name = \")\n",
    "        \n",
    "class Office(Info,Hr):\n",
    "    def __init__(self):\n",
    "        Hr.__init__(self)\n",
    "        Info.__init__(self)\n",
    "    def office(self):\n",
    "        print(super().info())\n",
    "        \n",
    "obj = Office()\n",
    "obj.office()"
   ]
  },
  {
   "cell_type": "code",
   "execution_count": 13,
   "metadata": {},
   "outputs": [
    {
     "name": "stdout",
     "output_type": "stream",
     "text": [
      "Parrot can fly\n",
      "Penguin can't fly\n"
     ]
    }
   ],
   "source": [
    "class Parrot:\n",
    "    def fly(self):\n",
    "        print(\"Parrot can fly\")\n",
    "    def swim(self):\n",
    "        print(\"Parrot can't swim\")\n",
    "class Penguin:\n",
    "    def fly(self):\n",
    "        print(\"Penguin can't fly\")\n",
    "    def swim(self):\n",
    "        print(\"Penguin can swim\")\n",
    "# common interface\n",
    "def flying_test(bird):\n",
    "    bird.fly()\n",
    "#instantiate objects\n",
    "blu = Parrot()\n",
    "peggy = Penguin()\n",
    "# passing the object\n",
    "flying_test(blu)\n",
    "flying_test(peggy)\n",
    "\n"
   ]
  },
  {
   "cell_type": "code",
   "execution_count": 14,
   "metadata": {},
   "outputs": [
    {
     "data": {
      "text/plain": [
       "'hellow world'"
      ]
     },
     "execution_count": 14,
     "metadata": {},
     "output_type": "execute_result"
    }
   ],
   "source": [
    "def strings(function):\n",
    "    def wrapper():\n",
    "        fun = function()\n",
    "        x = fun.lower()\n",
    "        return x\n",
    "    return wrapper\n",
    "\n",
    "@strings\n",
    "def info():\n",
    "    return 'Hellow World'\n",
    "\n",
    "info()\n"
   ]
  },
  {
   "cell_type": "code",
   "execution_count": null,
   "metadata": {},
   "outputs": [],
   "source": []
  }
 ],
 "metadata": {
  "kernelspec": {
   "display_name": "Python 3",
   "language": "python",
   "name": "python3"
  },
  "language_info": {
   "codemirror_mode": {
    "name": "ipython",
    "version": 3
   },
   "file_extension": ".py",
   "mimetype": "text/x-python",
   "name": "python",
   "nbconvert_exporter": "python",
   "pygments_lexer": "ipython3",
   "version": "3.7.1"
  }
 },
 "nbformat": 4,
 "nbformat_minor": 2
}
